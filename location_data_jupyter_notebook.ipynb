{
 "cells": [
  {
   "cell_type": "code",
   "execution_count": 7,
   "metadata": {},
   "outputs": [
    {
     "name": "stdout",
     "output_type": "stream",
     "text": [
      "[<script>\n",
      "            L_NO_TOUCH = false;\n",
      "            L_DISABLE_3D = false;\n",
      "        </script>, <script src=\"https://cdn.jsdelivr.net/npm/leaflet@1.5.1/dist/leaflet.js\"></script>, <script src=\"https://code.jquery.com/jquery-1.12.4.min.js\"></script>, <script src=\"https://maxcdn.bootstrapcdn.com/bootstrap/3.2.0/js/bootstrap.min.js\"></script>, <script src=\"https://cdnjs.cloudflare.com/ajax/libs/Leaflet.awesome-markers/2.0.2/leaflet.awesome-markers.js\"></script>, <script src=\"https://rawcdn.githack.com/ardhi/Leaflet.MousePosition/c32f1c84/src/L.Control.MousePosition.js\"></script>, <script src=\"https://rawcdn.githack.com/marslan390/BeautifyMarker/master/leaflet-beautify-marker-icon.js\"></script>, <script src=\"https://rawcdn.githack.com/ardhi/Leaflet.MousePosition/c32f1c84/src/L.Control.MousePosition.js\"></script>, <script>    \n",
      "    \n",
      "            var map_7d9846f512d64c12a19be5d5c23fc857 = L.map(\n",
      "                \"map_7d9846f512d64c12a19be5d5c23fc857\",\n",
      "                {\n",
      "                    center: [19.076042, 72.877535],\n",
      "                    crs: L.CRS.EPSG3857,\n",
      "                    zoom: 11,\n",
      "                    zoomControl: true,\n",
      "                    preferCanvas: false,\n",
      "                    attributionControl: false,\n",
      "                }\n",
      "            );\n",
      "            L.control.scale().addTo(map_7d9846f512d64c12a19be5d5c23fc857);\n",
      "\n",
      "            \n",
      "\n",
      "        \n",
      "    \n",
      "            var tile_layer_9fc3c02c13804f019aa292699e490f68 = L.tileLayer(\n",
      "                \"https://stamen-tiles-{s}.a.ssl.fastly.net/toner/{z}/{x}/{y}.png\",\n",
      "                {\"attribution\": \"Map tiles by \\u003ca href=\\\"http://stamen.com\\\"\\u003eStamen Design\\u003c/a\\u003e, under \\u003ca href=\\\"http://creativecommons.org/licenses/by/3.0\\\"\\u003eCC BY 3.0\\u003c/a\\u003e. Data by \\u0026copy; \\u003ca href=\\\"http://openstreetmap.org\\\"\\u003eOpenStreetMap\\u003c/a\\u003e, under \\u003ca href=\\\"http://www.openstreetmap.org/copyright\\\"\\u003eODbL\\u003c/a\\u003e.\", \"detectRetina\": false, \"maxNativeZoom\": 18, \"maxZoom\": 18, \"minZoom\": 0, \"noWrap\": false, \"opacity\": 1, \"subdomains\": \"abc\", \"tms\": false}\n",
      "            ).addTo(map_7d9846f512d64c12a19be5d5c23fc857);\n",
      "        \n",
      "    \n",
      "            var mouse_position_676ecd7fbc384a1795460bf4c5ce472c = new L.Control.MousePosition(\n",
      "                {\"emptyString\": \"Unavailable\", \"lngFirst\": false, \"numDigits\": 5, \"position\": \"bottomright\", \"prefix\": \"\", \"separator\": \" : \"}\n",
      "            );\n",
      "            mouse_position_676ecd7fbc384a1795460bf4c5ce472c.options[\"latFormatter\"] =\n",
      "                undefined;\n",
      "            mouse_position_676ecd7fbc384a1795460bf4c5ce472c.options[\"lngFormatter\"] =\n",
      "                undefined;\n",
      "            map_7d9846f512d64c12a19be5d5c23fc857.addControl(mouse_position_676ecd7fbc384a1795460bf4c5ce472c);\n",
      "        \n",
      "    \n",
      "            var feature_group_ad623471194f451d9f1cf7fc718747c5 = L.featureGroup(\n",
      "                {}\n",
      "            ).addTo(map_7d9846f512d64c12a19be5d5c23fc857);\n",
      "        \n",
      "    \n",
      "            var marker_9795626cfd584471ab4406d756a00baf = L.marker(\n",
      "                [19.041691972000024, 72.85052482000003],\n",
      "                {}\n",
      "            ).addTo(feature_group_ad623471194f451d9f1cf7fc718747c5);\n",
      "        \n",
      "    \n",
      "            var beautify_icon_2e4411cb13c54d6eafe97d5039bc324b = new L.BeautifyIcon.icon(\n",
      "                {\"backgroundColor\": \"transparent\", \"borderColor\": \"transparent\", \"borderHeight\": 1, \"borderWidth\": 1, \"icon\": \"star\", \"innerIconStyle\": \"color:#FA1A1A; font-size:10px;position: sticky;\", \"isAlphaNumericIcon\": false, \"spin\": true, \"textColor\": \"#000\"}\n",
      "            )\n"
     ]
    }
   ],
   "source": [
    "import pandas as pd\n",
    "import json\n",
    "import urllib3\n",
    "import re\n",
    "\n",
    "from bs4 import BeautifulSoup\n",
    "\n",
    "#def extract_data_from_report3(filename):\n",
    "html_report_part1 = open('BMC-ContainmentZones.js','r')\n",
    "soup = BeautifulSoup( html_report_part1, \"html.parser\")\n",
    "script = soup.find_all('script')\n",
    "str_script = str(script)\n",
    "print(str_script[:3500])\n",
    "\n"
   ]
  },
  {
   "cell_type": "code",
   "execution_count": 2,
   "metadata": {},
   "outputs": [],
   "source": [
    "#using regex to filter out data\n",
    "phoneNumRegex = re.findall(r'var marker_.*\\n                \\[.*' , str_script ) \n",
    "list_of_longitude = []\n",
    "first_part = []\n",
    "second_part = []\n",
    "third_part = []\n",
    "for i in phoneNumRegex:\n",
    "    list_of_longitude.append(i.split(' '))\n",
    "    #print(i[61:90])\n",
    "    #print(i[11:43])\n",
    "for i in list_of_longitude:\n",
    "        for j in range(0, len(i)):\n",
    "            if j == 1:\n",
    "                first_part.append(i[j][7:])\n",
    "            if j == 19:\n",
    "                second_part.append(i[j][1:-1])\n",
    "            if j == 20:\n",
    "                third_part.append(i[j][0:-2])\n",
    "\n"
   ]
  },
  {
   "cell_type": "code",
   "execution_count": 3,
   "metadata": {},
   "outputs": [
    {
     "data": {
      "text/html": [
       "<div>\n",
       "<style scoped>\n",
       "    .dataframe tbody tr th:only-of-type {\n",
       "        vertical-align: middle;\n",
       "    }\n",
       "\n",
       "    .dataframe tbody tr th {\n",
       "        vertical-align: top;\n",
       "    }\n",
       "\n",
       "    .dataframe thead th {\n",
       "        text-align: right;\n",
       "    }\n",
       "</style>\n",
       "<table border=\"1\" class=\"dataframe\">\n",
       "  <thead>\n",
       "    <tr style=\"text-align: right;\">\n",
       "      <th></th>\n",
       "      <th>Markerid</th>\n",
       "      <th>latitude</th>\n",
       "      <th>longitude</th>\n",
       "    </tr>\n",
       "  </thead>\n",
       "  <tbody>\n",
       "    <tr>\n",
       "      <th>0</th>\n",
       "      <td>9795626cfd584471ab4406d756a00baf</td>\n",
       "      <td>19.041691972000024</td>\n",
       "      <td>72.85052482000003</td>\n",
       "    </tr>\n",
       "    <tr>\n",
       "      <th>1</th>\n",
       "      <td>82a31b114c0243859e73c4f5f1332554</td>\n",
       "      <td>19.047690380000063</td>\n",
       "      <td>72.85787174600006</td>\n",
       "    </tr>\n",
       "    <tr>\n",
       "      <th>2</th>\n",
       "      <td>0e93001008714f1da3c40e3317183810</td>\n",
       "      <td>19.039267403000053</td>\n",
       "      <td>72.85491353500004</td>\n",
       "    </tr>\n",
       "    <tr>\n",
       "      <th>3</th>\n",
       "      <td>a41b90c2ea4a405b8a35811cd094ea68</td>\n",
       "      <td>19.04372482200006</td>\n",
       "      <td>72.85004247900008</td>\n",
       "    </tr>\n",
       "    <tr>\n",
       "      <th>4</th>\n",
       "      <td>3e13bed860e9471d9a1323cffd3b6129</td>\n",
       "      <td>19.017987179000045</td>\n",
       "      <td>72.81980024300003</td>\n",
       "    </tr>\n",
       "  </tbody>\n",
       "</table>\n",
       "</div>"
      ],
      "text/plain": [
       "                           Markerid            latitude          longitude\n",
       "0  9795626cfd584471ab4406d756a00baf  19.041691972000024  72.85052482000003\n",
       "1  82a31b114c0243859e73c4f5f1332554  19.047690380000063  72.85787174600006\n",
       "2  0e93001008714f1da3c40e3317183810  19.039267403000053  72.85491353500004\n",
       "3  a41b90c2ea4a405b8a35811cd094ea68   19.04372482200006  72.85004247900008\n",
       "4  3e13bed860e9471d9a1323cffd3b6129  19.017987179000045  72.81980024300003"
      ]
     },
     "execution_count": 3,
     "metadata": {},
     "output_type": "execute_result"
    }
   ],
   "source": [
    "#adding data to dataframe\n",
    "location_data = pd.DataFrame(list(zip(first_part, second_part, third_part)), columns =['Markerid', 'latitude', 'longitude']) \n",
    "#printing and verifying data\n",
    "location_data.head()"
   ]
  },
  {
   "cell_type": "code",
   "execution_count": 4,
   "metadata": {},
   "outputs": [
    {
     "name": "stdout",
     "output_type": "stream",
     "text": [
      "<class 'pandas.core.frame.DataFrame'>\n",
      "RangeIndex: 640 entries, 0 to 639\n",
      "Data columns (total 3 columns):\n",
      "Markerid     640 non-null object\n",
      "latitude     640 non-null object\n",
      "longitude    640 non-null object\n",
      "dtypes: object(3)\n",
      "memory usage: 15.1+ KB\n"
     ]
    }
   ],
   "source": [
    "#checking whether rows are null or not\n",
    "location_data.info()"
   ]
  },
  {
   "cell_type": "code",
   "execution_count": null,
   "metadata": {},
   "outputs": [],
   "source": []
  },
  {
   "cell_type": "code",
   "execution_count": null,
   "metadata": {},
   "outputs": [],
   "source": []
  }
 ],
 "metadata": {
  "kernelspec": {
   "display_name": "Python 3",
   "language": "python",
   "name": "python3"
  },
  "language_info": {
   "codemirror_mode": {
    "name": "ipython",
    "version": 3
   },
   "file_extension": ".py",
   "mimetype": "text/x-python",
   "name": "python",
   "nbconvert_exporter": "python",
   "pygments_lexer": "ipython3",
   "version": "3.7.3"
  }
 },
 "nbformat": 4,
 "nbformat_minor": 2
}
